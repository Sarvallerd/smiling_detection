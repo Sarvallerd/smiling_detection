{
 "cells": [
  {
   "cell_type": "code",
   "execution_count": 1,
   "outputs": [],
   "source": [
    "import cv2\n",
    "import numpy as np\n",
    "import os\n",
    "import keras\n",
    "import Preparation\n",
    "import tensorflow as tf\n",
    "import time\n",
    "\n",
    "from keras.layers.core import Dense\n",
    "from keras.models import load_model"
   ],
   "metadata": {
    "collapsed": false,
    "pycharm": {
     "name": "#%%\n"
    }
   }
  },
  {
   "cell_type": "code",
   "execution_count": 2,
   "outputs": [],
   "source": [
    " # prepare dataset\n",
    "X_test, Y_test = Preparation.test_train_datasets(r'D:\\PycharmProjects\\smiling_detection\\datasets\\test_folder')\n",
    "X_train, Y_train = Preparation.test_train_datasets(r'D:\\PycharmProjects\\smiling_detection\\datasets\\train_folder')\n",
    "\n",
    "X_train, Y_train = Preparation.reformation(X_train, Y_train)\n",
    "X_test, Y_test = Preparation.reformation(X_test, Y_test)"
   ],
   "metadata": {
    "collapsed": false,
    "pycharm": {
     "name": "#%%\n"
    }
   }
  },
  {
   "cell_type": "code",
   "execution_count": 3,
   "outputs": [
    {
     "data": {
      "text/plain": "(2800, 227, 227, 3)"
     },
     "execution_count": 3,
     "metadata": {},
     "output_type": "execute_result"
    }
   ],
   "source": [
    "X_train.shape"
   ],
   "metadata": {
    "collapsed": false,
    "pycharm": {
     "name": "#%%\n"
    }
   }
  },
  {
   "cell_type": "code",
   "execution_count": 4,
   "outputs": [],
   "source": [
    "root_logdir = os.path.join(os.curdir, \"logs\\\\fit\\\\\")\n",
    "\n",
    "\n",
    "def get_run_logdir():\n",
    "    run_id = time.strftime(\"run_%Y_%m_%d-%H_%M_%S\")\n",
    "    return os.path.join(root_logdir, run_id)\n",
    "\n",
    "\n",
    "run_logdir = get_run_logdir()\n",
    "tensorboard_cb = keras.callbacks.TensorBoard(run_logdir)"
   ],
   "metadata": {
    "collapsed": false,
    "pycharm": {
     "name": "#%%\n"
    }
   }
  },
  {
   "cell_type": "code",
   "execution_count": 5,
   "outputs": [],
   "source": [
    "# creating AlexNet CNN\n",
    "model = keras.models.Sequential([\n",
    "    keras.layers.Conv2D(filters=96, kernel_size=(11, 11), strides=(4, 4), activation='relu', input_shape=(227, 227, 3)),\n",
    "    keras.layers.BatchNormalization(),\n",
    "    keras.layers.MaxPool2D(pool_size=(3, 3), strides=(2, 2)),\n",
    "    keras.layers.Conv2D(filters=256, kernel_size=(5, 5), strides=(1, 1), activation='relu', padding=\"same\"),\n",
    "    keras.layers.BatchNormalization(),\n",
    "    keras.layers.MaxPool2D(pool_size=(3, 3), strides=(2, 2)),\n",
    "    keras.layers.Conv2D(filters=384, kernel_size=(3, 3), strides=(1, 1), activation='relu', padding=\"same\"),\n",
    "    keras.layers.BatchNormalization(),\n",
    "    keras.layers.Conv2D(filters=384, kernel_size=(3, 3), strides=(1, 1), activation='relu', padding=\"same\"),\n",
    "    keras.layers.BatchNormalization(),\n",
    "    keras.layers.Conv2D(filters=256, kernel_size=(3, 3), strides=(1, 1), activation='relu', padding=\"same\"),\n",
    "    keras.layers.BatchNormalization(),\n",
    "    keras.layers.MaxPool2D(pool_size=(3, 3), strides=(2, 2)),\n",
    "    keras.layers.Flatten(),\n",
    "    keras.layers.Dense(4096, activation='relu'),\n",
    "    keras.layers.Dropout(0.5),\n",
    "    keras.layers.Dense(4096, activation='relu'),\n",
    "    keras.layers.Dropout(0.5),\n",
    "    keras.layers.Dense(2, activation='softmax')\n",
    "])\n"
   ],
   "metadata": {
    "collapsed": false,
    "pycharm": {
     "name": "#%%\n"
    }
   }
  },
  {
   "cell_type": "code",
   "execution_count": 6,
   "outputs": [
    {
     "name": "stdout",
     "output_type": "stream",
     "text": [
      "Model: \"sequential\"\n",
      "_________________________________________________________________\n",
      " Layer (type)                Output Shape              Param #   \n",
      "=================================================================\n",
      " conv2d (Conv2D)             (None, 55, 55, 96)        34944     \n",
      "                                                                 \n",
      " batch_normalization (BatchN  (None, 55, 55, 96)       384       \n",
      " ormalization)                                                   \n",
      "                                                                 \n",
      " max_pooling2d (MaxPooling2D  (None, 27, 27, 96)       0         \n",
      " )                                                               \n",
      "                                                                 \n",
      " conv2d_1 (Conv2D)           (None, 27, 27, 256)       614656    \n",
      "                                                                 \n",
      " batch_normalization_1 (Batc  (None, 27, 27, 256)      1024      \n",
      " hNormalization)                                                 \n",
      "                                                                 \n",
      " max_pooling2d_1 (MaxPooling  (None, 13, 13, 256)      0         \n",
      " 2D)                                                             \n",
      "                                                                 \n",
      " conv2d_2 (Conv2D)           (None, 13, 13, 384)       885120    \n",
      "                                                                 \n",
      " batch_normalization_2 (Batc  (None, 13, 13, 384)      1536      \n",
      " hNormalization)                                                 \n",
      "                                                                 \n",
      " conv2d_3 (Conv2D)           (None, 13, 13, 384)       1327488   \n",
      "                                                                 \n",
      " batch_normalization_3 (Batc  (None, 13, 13, 384)      1536      \n",
      " hNormalization)                                                 \n",
      "                                                                 \n",
      " conv2d_4 (Conv2D)           (None, 13, 13, 256)       884992    \n",
      "                                                                 \n",
      " batch_normalization_4 (Batc  (None, 13, 13, 256)      1024      \n",
      " hNormalization)                                                 \n",
      "                                                                 \n",
      " max_pooling2d_2 (MaxPooling  (None, 6, 6, 256)        0         \n",
      " 2D)                                                             \n",
      "                                                                 \n",
      " flatten (Flatten)           (None, 9216)              0         \n",
      "                                                                 \n",
      " dense (Dense)               (None, 4096)              37752832  \n",
      "                                                                 \n",
      " dropout (Dropout)           (None, 4096)              0         \n",
      "                                                                 \n",
      " dense_1 (Dense)             (None, 4096)              16781312  \n",
      "                                                                 \n",
      " dropout_1 (Dropout)         (None, 4096)              0         \n",
      "                                                                 \n",
      " dense_2 (Dense)             (None, 2)                 8194      \n",
      "                                                                 \n",
      "=================================================================\n",
      "Total params: 58,295,042\n",
      "Trainable params: 58,292,290\n",
      "Non-trainable params: 2,752\n",
      "_________________________________________________________________\n"
     ]
    }
   ],
   "source": [
    "model.compile(loss='categorical_crossentropy', optimizer=tf.optimizers.SGD(learning_rate=0.001),\n",
    "              metrics=['accuracy'])\n",
    "model.summary()"
   ],
   "metadata": {
    "collapsed": false,
    "pycharm": {
     "name": "#%%\n"
    }
   }
  },
  {
   "cell_type": "code",
   "execution_count": 7,
   "outputs": [
    {
     "name": "stdout",
     "output_type": "stream",
     "text": [
      "Epoch 1/50\n",
      "70/70 [==============================] - 87s 1s/step - loss: 1.4863 - accuracy: 0.5638 - val_loss: 0.6857 - val_accuracy: 0.6161\n",
      "Epoch 2/50\n",
      "70/70 [==============================] - 89s 1s/step - loss: 1.0777 - accuracy: 0.6228 - val_loss: 0.6947 - val_accuracy: 0.5054\n",
      "Epoch 3/50\n",
      "70/70 [==============================] - 84s 1s/step - loss: 0.9819 - accuracy: 0.6317 - val_loss: 0.6464 - val_accuracy: 0.6464\n",
      "Epoch 4/50\n",
      "70/70 [==============================] - 87s 1s/step - loss: 0.7627 - accuracy: 0.6951 - val_loss: 0.6365 - val_accuracy: 0.6482\n",
      "Epoch 5/50\n",
      "70/70 [==============================] - 84s 1s/step - loss: 0.7305 - accuracy: 0.7018 - val_loss: 0.5985 - val_accuracy: 0.6661\n",
      "Epoch 6/50\n",
      "70/70 [==============================] - 85s 1s/step - loss: 0.6737 - accuracy: 0.7170 - val_loss: 0.5837 - val_accuracy: 0.7071\n",
      "Epoch 7/50\n",
      "70/70 [==============================] - 83s 1s/step - loss: 0.6005 - accuracy: 0.7487 - val_loss: 0.9857 - val_accuracy: 0.5375\n",
      "Epoch 8/50\n",
      "70/70 [==============================] - 85s 1s/step - loss: 0.5669 - accuracy: 0.7585 - val_loss: 0.5361 - val_accuracy: 0.7357\n",
      "Epoch 9/50\n",
      "70/70 [==============================] - 86s 1s/step - loss: 0.5329 - accuracy: 0.7737 - val_loss: 0.7244 - val_accuracy: 0.6589\n",
      "Epoch 10/50\n",
      "70/70 [==============================] - 83s 1s/step - loss: 0.4958 - accuracy: 0.7911 - val_loss: 0.5663 - val_accuracy: 0.7446\n",
      "Epoch 11/50\n",
      "70/70 [==============================] - 85s 1s/step - loss: 0.4907 - accuracy: 0.7884 - val_loss: 0.5290 - val_accuracy: 0.7482\n",
      "Epoch 12/50\n",
      "70/70 [==============================] - 83s 1s/step - loss: 0.4524 - accuracy: 0.8071 - val_loss: 0.5030 - val_accuracy: 0.7661\n",
      "Epoch 13/50\n",
      "70/70 [==============================] - 86s 1s/step - loss: 0.4123 - accuracy: 0.8228 - val_loss: 0.4450 - val_accuracy: 0.7893\n",
      "Epoch 14/50\n",
      "70/70 [==============================] - 86s 1s/step - loss: 0.3828 - accuracy: 0.8313 - val_loss: 0.4435 - val_accuracy: 0.7875\n",
      "Epoch 15/50\n",
      "70/70 [==============================] - 82s 1s/step - loss: 0.3315 - accuracy: 0.8549 - val_loss: 0.5584 - val_accuracy: 0.7250\n",
      "Epoch 16/50\n",
      "70/70 [==============================] - 86s 1s/step - loss: 0.3407 - accuracy: 0.8464 - val_loss: 0.4516 - val_accuracy: 0.7875\n",
      "Epoch 17/50\n",
      "70/70 [==============================] - 95s 1s/step - loss: 0.3276 - accuracy: 0.8603 - val_loss: 0.4505 - val_accuracy: 0.7786\n",
      "Epoch 18/50\n",
      "70/70 [==============================] - 89s 1s/step - loss: 0.3208 - accuracy: 0.8612 - val_loss: 0.4713 - val_accuracy: 0.7768\n",
      "Epoch 19/50\n",
      "70/70 [==============================] - 85s 1s/step - loss: 0.3265 - accuracy: 0.8603 - val_loss: 0.4471 - val_accuracy: 0.7929\n",
      "Epoch 20/50\n",
      "70/70 [==============================] - 85s 1s/step - loss: 0.2970 - accuracy: 0.8741 - val_loss: 0.4696 - val_accuracy: 0.7786\n",
      "Epoch 21/50\n",
      "70/70 [==============================] - 85s 1s/step - loss: 0.2838 - accuracy: 0.8804 - val_loss: 0.4187 - val_accuracy: 0.8125\n",
      "Epoch 22/50\n",
      "70/70 [==============================] - 85s 1s/step - loss: 0.2646 - accuracy: 0.8821 - val_loss: 0.4327 - val_accuracy: 0.7946\n",
      "Epoch 23/50\n",
      "70/70 [==============================] - 85s 1s/step - loss: 0.2549 - accuracy: 0.8982 - val_loss: 0.4165 - val_accuracy: 0.8196\n",
      "Epoch 24/50\n",
      "70/70 [==============================] - 84s 1s/step - loss: 0.2370 - accuracy: 0.9013 - val_loss: 0.4524 - val_accuracy: 0.8000\n",
      "Epoch 25/50\n",
      "70/70 [==============================] - 85s 1s/step - loss: 0.2169 - accuracy: 0.9067 - val_loss: 0.4281 - val_accuracy: 0.8143\n",
      "Epoch 26/50\n",
      "70/70 [==============================] - 84s 1s/step - loss: 0.2078 - accuracy: 0.9156 - val_loss: 0.4210 - val_accuracy: 0.8089\n",
      "Epoch 27/50\n",
      "70/70 [==============================] - 84s 1s/step - loss: 0.2050 - accuracy: 0.9085 - val_loss: 0.4165 - val_accuracy: 0.8214\n",
      "Epoch 28/50\n",
      "70/70 [==============================] - 84s 1s/step - loss: 0.1971 - accuracy: 0.9219 - val_loss: 0.4486 - val_accuracy: 0.8125\n",
      "Epoch 29/50\n",
      "70/70 [==============================] - 84s 1s/step - loss: 0.1744 - accuracy: 0.9299 - val_loss: 0.3968 - val_accuracy: 0.8268\n",
      "Epoch 30/50\n",
      "70/70 [==============================] - 84s 1s/step - loss: 0.1611 - accuracy: 0.9348 - val_loss: 0.4181 - val_accuracy: 0.8375\n",
      "Epoch 31/50\n",
      "70/70 [==============================] - 81s 1s/step - loss: 0.1680 - accuracy: 0.9304 - val_loss: 0.4239 - val_accuracy: 0.8375\n",
      "Epoch 32/50\n",
      "70/70 [==============================] - 80s 1s/step - loss: 0.1533 - accuracy: 0.9420 - val_loss: 0.4419 - val_accuracy: 0.8161\n",
      "Epoch 33/50\n",
      "70/70 [==============================] - 80s 1s/step - loss: 0.1421 - accuracy: 0.9491 - val_loss: 0.4155 - val_accuracy: 0.8357\n",
      "Epoch 34/50\n",
      "70/70 [==============================] - 80s 1s/step - loss: 0.1199 - accuracy: 0.9531 - val_loss: 0.3967 - val_accuracy: 0.8304\n",
      "Epoch 35/50\n",
      "70/70 [==============================] - 80s 1s/step - loss: 0.1374 - accuracy: 0.9424 - val_loss: 0.4071 - val_accuracy: 0.8179\n",
      "Epoch 36/50\n",
      "70/70 [==============================] - 80s 1s/step - loss: 0.1264 - accuracy: 0.9455 - val_loss: 0.4302 - val_accuracy: 0.8232\n",
      "Epoch 37/50\n",
      "70/70 [==============================] - 83s 1s/step - loss: 0.1085 - accuracy: 0.9580 - val_loss: 0.4471 - val_accuracy: 0.8250\n",
      "Epoch 38/50\n",
      "70/70 [==============================] - 83s 1s/step - loss: 0.1011 - accuracy: 0.9621 - val_loss: 0.4387 - val_accuracy: 0.8321\n",
      "Epoch 39/50\n",
      "70/70 [==============================] - 81s 1s/step - loss: 0.0965 - accuracy: 0.9621 - val_loss: 0.4509 - val_accuracy: 0.8250\n",
      "Epoch 40/50\n",
      "70/70 [==============================] - 81s 1s/step - loss: 0.0947 - accuracy: 0.9647 - val_loss: 0.4490 - val_accuracy: 0.8393\n",
      "Epoch 41/50\n",
      "70/70 [==============================] - 81s 1s/step - loss: 0.0929 - accuracy: 0.9621 - val_loss: 0.4620 - val_accuracy: 0.8304\n",
      "Epoch 42/50\n",
      "70/70 [==============================] - 81s 1s/step - loss: 0.0833 - accuracy: 0.9679 - val_loss: 0.4335 - val_accuracy: 0.8411\n",
      "Epoch 43/50\n",
      "70/70 [==============================] - 81s 1s/step - loss: 0.0859 - accuracy: 0.9665 - val_loss: 0.4269 - val_accuracy: 0.8375\n",
      "Epoch 44/50\n",
      "70/70 [==============================] - 82s 1s/step - loss: 0.0749 - accuracy: 0.9714 - val_loss: 0.4482 - val_accuracy: 0.8411\n",
      "Epoch 45/50\n",
      "70/70 [==============================] - 81s 1s/step - loss: 0.0729 - accuracy: 0.9696 - val_loss: 0.4483 - val_accuracy: 0.8393\n",
      "Epoch 46/50\n",
      "70/70 [==============================] - 81s 1s/step - loss: 0.0665 - accuracy: 0.9759 - val_loss: 0.4297 - val_accuracy: 0.8482\n",
      "Epoch 47/50\n",
      "70/70 [==============================] - 81s 1s/step - loss: 0.0743 - accuracy: 0.9719 - val_loss: 0.4759 - val_accuracy: 0.8339\n",
      "Epoch 48/50\n",
      "70/70 [==============================] - 81s 1s/step - loss: 0.0519 - accuracy: 0.9830 - val_loss: 0.4744 - val_accuracy: 0.8464\n",
      "Epoch 49/50\n",
      "70/70 [==============================] - 81s 1s/step - loss: 0.0571 - accuracy: 0.9808 - val_loss: 0.4300 - val_accuracy: 0.8536\n",
      "Epoch 50/50\n",
      "70/70 [==============================] - 81s 1s/step - loss: 0.0529 - accuracy: 0.9808 - val_loss: 0.4346 - val_accuracy: 0.8500\n",
      "38/38 [==============================] - 10s 260ms/step - loss: 0.4689 - accuracy: 0.8575\n",
      "Test score: 0.4688624143600464\n",
      "Test accuracy: 0.8575000166893005\n"
     ]
    }
   ],
   "source": [
    "model.fit(X_train,\n",
    "          Y_train,\n",
    "          epochs=50,\n",
    "          validation_split=0.2,\n",
    "          callbacks=[tensorboard_cb],\n",
    "          verbose=1)\n",
    "score = model.evaluate(X_test, Y_test, verbose=1)\n",
    "print(\"Test score:\", score[0])\n",
    "print('Test accuracy:', score[1])"
   ],
   "metadata": {
    "collapsed": false,
    "pycharm": {
     "name": "#%%\n"
    }
   }
  },
  {
   "cell_type": "code",
   "execution_count": 8,
   "outputs": [
    {
     "name": "stderr",
     "output_type": "stream",
     "text": [
      "WARNING:absl:Found untraced functions such as _jit_compiled_convolution_op, _jit_compiled_convolution_op, _jit_compiled_convolution_op, _jit_compiled_convolution_op, _jit_compiled_convolution_op while saving (showing 5 of 5). These functions will not be directly callable after loading.\n"
     ]
    },
    {
     "name": "stdout",
     "output_type": "stream",
     "text": [
      "INFO:tensorflow:Assets written to: model\\assets\n"
     ]
    },
    {
     "name": "stderr",
     "output_type": "stream",
     "text": [
      "INFO:tensorflow:Assets written to: model\\assets\n"
     ]
    }
   ],
   "source": [
    "model.save('model')"
   ],
   "metadata": {
    "collapsed": false,
    "pycharm": {
     "name": "#%%\n"
    }
   }
  },
  {
   "cell_type": "code",
   "execution_count": 3,
   "outputs": [],
   "source": [
    "loaded_model = load_model('model')"
   ],
   "metadata": {
    "collapsed": false,
    "pycharm": {
     "name": "#%%\n"
    }
   }
  },
  {
   "cell_type": "code",
   "execution_count": 6,
   "outputs": [],
   "source": [
    "# print predict\n",
    "def prediction(model, path: str):\n",
    "    image_arr = Preparation.get_array_from_image(path)\n",
    "    reform_arr = image_arr / 255\n",
    "    pred = model.predict(reform_arr)\n",
    "    gray_image = cv2.cvtColor(image_arr[0], cv2.COLOR_BGR2GRAY)\n",
    "    mouth_cascade = cv2.CascadeClassifier(\n",
    "        r'D:\\PycharmProjects\\smiling_detection\\haarcascade_mcs_mouth.xml')\n",
    "    mouth = mouth_cascade.detectMultiScale(gray_image, 1.7, 20)\n",
    "    for (x_smile, y_smile, w_smile, h_smile) in mouth:\n",
    "        cv2.rectangle(image_arr[0], (x_smile, y_smile), (x_smile + w_smile, y_smile + h_smile), (255, 0, 130), 2)\n",
    "    font = cv2.FONT_HERSHEY_SIMPLEX\n",
    "    if pred[0][0] == 1:\n",
    "        cv2.putText(image_arr[0], 'Non_smile', (50, 50), font, 1.2, (255, 255, 255), 2)\n",
    "    else:\n",
    "        cv2.putText(image_arr[0], 'Smile', (50, 50), font, 1.2, (255, 255, 255), 2)\n",
    "    cv2.imshow('', image_arr[0])\n",
    "    cv2.waitKey(200)\n",
    "\n",
    "\n",
    "prediction(loaded_model, r'D:\\PycharmProjects\\smiling_detection\\1.jpg')"
   ],
   "metadata": {
    "collapsed": false,
    "pycharm": {
     "name": "#%%\n"
    }
   }
  }
 ],
 "metadata": {
  "kernelspec": {
   "display_name": "Python 3",
   "language": "python",
   "name": "python3"
  },
  "language_info": {
   "codemirror_mode": {
    "name": "ipython",
    "version": 2
   },
   "file_extension": ".py",
   "mimetype": "text/x-python",
   "name": "python",
   "nbconvert_exporter": "python",
   "pygments_lexer": "ipython2",
   "version": "2.7.6"
  }
 },
 "nbformat": 4,
 "nbformat_minor": 0
}